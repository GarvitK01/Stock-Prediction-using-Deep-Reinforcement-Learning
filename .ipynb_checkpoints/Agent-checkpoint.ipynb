{
 "cells": [
  {
   "cell_type": "code",
   "execution_count": 2,
   "id": "35554272",
   "metadata": {},
   "outputs": [
    {
     "name": "stderr",
     "output_type": "stream",
     "text": [
      "2021-11-18 13:07:31.446012: W tensorflow/stream_executor/platform/default/dso_loader.cc:64] Could not load dynamic library 'libcudart.so.11.0'; dlerror: libcudart.so.11.0: cannot open shared object file: No such file or directory\n",
      "2021-11-18 13:07:31.446035: I tensorflow/stream_executor/cuda/cudart_stub.cc:29] Ignore above cudart dlerror if you do not have a GPU set up on your machine.\n"
     ]
    }
   ],
   "source": [
    "import numpy as np\n",
    "import matplotlib.pyplot as plt\n",
    "import pandas as pd\n",
    "import sklearn\n",
    "import keras\n",
    "import random"
   ]
  },
  {
   "cell_type": "code",
   "execution_count": 278,
   "id": "d758e9aa",
   "metadata": {},
   "outputs": [],
   "source": [
    "class MarketAgent():\n",
    "    \n",
    "    def __init__(self, epsilon, gamma, input_dim, timesteps, states, test = False, model_name = \"Agent\"):\n",
    "        \n",
    "        self.epsilon = epsilon\n",
    "        self.gamma = gamma\n",
    "        self.actions = ['Buy', 'Sell', 'Hold']\n",
    "        self.state_value = np.random.random((timesteps, 1)) \n",
    "        self.policy = np.array((states, 1))\n",
    "        self.state_size = states\n",
    "        self.model = self.make_model()\n",
    "        \n",
    "        \n",
    "    def take_action(state):\n",
    "        \n",
    "        '''\n",
    "        State in this case will be timestep as it will be easier to index through it\n",
    "        '''\n",
    "        \n",
    "        if random.random() >= epsilon:  # Exploit\n",
    "            return self.actions[np.argmax(self.state_value[state])]\n",
    "        else: # Explore\n",
    "            return random.choice(self.actions)\n",
    "        \n",
    "    def make_model(self):\n",
    "        \n",
    "        '''\n",
    "        Defining the model that approximates the Value Function\n",
    "        '''\n",
    "        \n",
    "        model = keras.models.Sequential()\n",
    "        model.add(keras.layers.Dense(5, input_dim = self.state_size, activation = 'relu'))\n",
    "        model.add(keras.layers.Dense(10, activation = 'relu'))\n",
    "        model.add(keras.layers.Dense(5, activation = 'relu'))\n",
    "        model.add(keras.layers.Dense(1, activation = 'linear'))\n",
    "        model.compile(loss = 'mse', optimizer = 'Adam')\n",
    "        \n",
    "        return model\n",
    "    \n",
    "    \n",
    "    def play_episode(self, epsilon, gamma, alpha, data):\n",
    "        \n",
    "        '''\n",
    "        One Episode an Agent Plays\n",
    "        '''\n",
    "    \n",
    "        for time in range(1, 10 - 1):\n",
    "            state = data[time]   # State Vector\n",
    "            reward = 100 * (state[3] - data[time-1][3])/(data[time-1][3])\n",
    "#             print(f\"Current Reward {reward}\\n\" )\n",
    "            next_state = time + 1\n",
    "            self.state_value[time] += alpha * (reward + gamma * self.state_value[next_state] - self.state_value[time])\n",
    "#             print(f\"Current State: {state}, Shape: {state.shape}\\n\")\n",
    "            state = state.reshape(-1, self.state_size)\n",
    "            self.model.fit(state, self.state_value[time], epochs = 3, verbose = 1)\n"
   ]
  },
  {
   "cell_type": "code",
   "execution_count": 279,
   "id": "f1be5ff3",
   "metadata": {},
   "outputs": [],
   "source": [
    "data = pd.read_csv(\"./process.csv\")"
   ]
  },
  {
   "cell_type": "code",
   "execution_count": 280,
   "id": "638d2b56",
   "metadata": {},
   "outputs": [],
   "source": [
    "train_data = data[:int(0.8 * len(data))]\n",
    "train_data = train_data.to_numpy()"
   ]
  },
  {
   "cell_type": "code",
   "execution_count": 281,
   "id": "04611077",
   "metadata": {},
   "outputs": [],
   "source": [
    "epsilon = 0.3\n",
    "gamma = 0.2\n",
    "input_dim = len(train_data)\n",
    "states = 6\n",
    "test = False"
   ]
  },
  {
   "cell_type": "code",
   "execution_count": 282,
   "id": "02183463",
   "metadata": {},
   "outputs": [],
   "source": [
    "agent = MarketAgent(epsilon, gamma, input_dim, len(train_data), states, test, model_name = \"Agent\")"
   ]
  },
  {
   "cell_type": "code",
   "execution_count": 283,
   "id": "d475ec39",
   "metadata": {},
   "outputs": [],
   "source": [
    "alpha = 0.1"
   ]
  },
  {
   "cell_type": "code",
   "execution_count": 284,
   "id": "3bd6075e",
   "metadata": {
    "scrolled": false
   },
   "outputs": [
    {
     "name": "stdout",
     "output_type": "stream",
     "text": [
      "Epoch 1/3\n",
      "1/1 [==============================] - 0s 181ms/step - loss: 0.0516\n",
      "Epoch 2/3\n",
      "1/1 [==============================] - 0s 1ms/step - loss: 0.0493\n",
      "Epoch 3/3\n",
      "1/1 [==============================] - 0s 2ms/step - loss: 0.0474\n",
      "Epoch 1/3\n",
      "1/1 [==============================] - 0s 2ms/step - loss: 11.1594\n",
      "Epoch 2/3\n",
      "1/1 [==============================] - 0s 2ms/step - loss: 11.1362\n",
      "Epoch 3/3\n",
      "1/1 [==============================] - 0s 1ms/step - loss: 11.1086\n",
      "Epoch 1/3\n",
      "1/1 [==============================] - 0s 2ms/step - loss: 1.2785\n",
      "Epoch 2/3\n",
      "1/1 [==============================] - 0s 979us/step - loss: 1.2856\n",
      "Epoch 3/3\n",
      "1/1 [==============================] - 0s 1ms/step - loss: 1.2907\n",
      "Epoch 1/3\n",
      "1/1 [==============================] - 0s 2ms/step - loss: 2.6316\n",
      "Epoch 2/3\n",
      "1/1 [==============================] - 0s 1ms/step - loss: 2.6340\n",
      "Epoch 3/3\n",
      "1/1 [==============================] - 0s 1ms/step - loss: 2.6343\n",
      "Epoch 1/3\n",
      "1/1 [==============================] - 0s 2ms/step - loss: 14.4989\n",
      "Epoch 2/3\n",
      "1/1 [==============================] - 0s 1ms/step - loss: 14.4881\n",
      "Epoch 3/3\n",
      "1/1 [==============================] - 0s 2ms/step - loss: 14.4722\n",
      "Epoch 1/3\n",
      "1/1 [==============================] - 0s 2ms/step - loss: 5.0326\n",
      "Epoch 2/3\n",
      "1/1 [==============================] - 0s 1ms/step - loss: 5.0404\n",
      "Epoch 3/3\n",
      "1/1 [==============================] - 0s 2ms/step - loss: 5.0444\n",
      "Epoch 1/3\n",
      "1/1 [==============================] - 0s 2ms/step - loss: 18.3646\n",
      "Epoch 2/3\n",
      "1/1 [==============================] - 0s 1ms/step - loss: 18.3543\n",
      "Epoch 3/3\n",
      "1/1 [==============================] - 0s 1ms/step - loss: 18.3373\n",
      "Epoch 1/3\n",
      "1/1 [==============================] - 0s 2ms/step - loss: 0.6510\n",
      "Epoch 2/3\n",
      "1/1 [==============================] - 0s 1ms/step - loss: 0.6467\n",
      "Epoch 3/3\n",
      "1/1 [==============================] - 0s 2ms/step - loss: 0.6425\n"
     ]
    }
   ],
   "source": [
    "agent.play_episode(epsilon, gamma, 0.1, train_data)"
   ]
  },
  {
   "cell_type": "code",
   "execution_count": null,
   "id": "965b6ada",
   "metadata": {},
   "outputs": [],
   "source": []
  }
 ],
 "metadata": {
  "kernelspec": {
   "display_name": "Python 3 (ipykernel)",
   "language": "python",
   "name": "python3"
  },
  "language_info": {
   "codemirror_mode": {
    "name": "ipython",
    "version": 3
   },
   "file_extension": ".py",
   "mimetype": "text/x-python",
   "name": "python",
   "nbconvert_exporter": "python",
   "pygments_lexer": "ipython3",
   "version": "3.9.7"
  }
 },
 "nbformat": 4,
 "nbformat_minor": 5
}
